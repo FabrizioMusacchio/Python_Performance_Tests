{
 "cells": [
  {
   "cell_type": "code",
   "execution_count": 1,
   "metadata": {},
   "outputs": [],
   "source": [
    "import matplotlib.pyplot as plt\n",
    "import numpy as np\n",
    "import scipy as sp\n",
    "from skimage import data\n",
    "from skimage.registration import phase_cross_correlation\n",
    "from skimage.transform import SimilarityTransform, warp\n",
    "import os\n",
    "import time\n",
    "import zarr"
   ]
  },
  {
   "cell_type": "code",
   "execution_count": 2,
   "metadata": {},
   "outputs": [],
   "source": [
    "OS          = \"macOS\" # macOS Windows Linux\n",
    "editor_n    = 3 # choose the editor# from the list below\n",
    "venv_n      = 2 # choose venv form the list below\n",
    "N_rep       = 10 # Number of repetitions\n",
    "#                          0                     1               2         3\n",
    "editor_list = [\"VS Code (interactive)\",\"VS Code (terminal)\",\"PyCharm\",\"Jupyter\"]\n",
    "#                  0       1          2\n",
    "venv_list   = [\"conda\",\"python\",\"virtualenv\"]\n",
    "editor      = editor_list[editor_n]\n",
    "venv        = venv_list[venv_n]"
   ]
  },
  {
   "cell_type": "code",
   "execution_count": 3,
   "metadata": {},
   "outputs": [],
   "source": [
    "zarr_filename = \"data.zarr\"\n",
    "zarr_out_root   = zarr.open(zarr_filename, mode='a')\n",
    "zarr_curr_group = zarr_out_root[OS + \" \" + editor + \" \" + venv]"
   ]
  },
  {
   "cell_type": "code",
   "execution_count": 4,
   "metadata": {},
   "outputs": [],
   "source": [
    "def calc_process_time(t0, verbose=False, leadspaces=\"\", output=False, unit=\"min\"):\n",
    "    \"\"\"\n",
    "        Calculates the processing time/time difference for a given input time and the current time\n",
    "\n",
    "    Usage:\n",
    "        Process_t0 = time.time()\n",
    "        #your process\n",
    "        calc_process_time(Process_t0, verbose=True, leadspaces=\"  \")\n",
    "\n",
    "        :param t0:              starting time stamp\n",
    "        :param verbose:         verbose? True or False\n",
    "        :param leadspaces:      pre-fix, e.g., some space in front of any verbose output\n",
    "        :param output:          provide an output (s. below)? True or False\n",
    "        :return: dt (optional)  the calculated processing time\n",
    "    :rtype:\n",
    "    \"\"\"\n",
    "    dt = time.time() - t0\n",
    "    if verbose:\n",
    "        if unit==\"min\":\n",
    "            print(leadspaces + f'process time: {round(dt / 60, 2)} min')\n",
    "        elif unit==\"sec\":\n",
    "            print(leadspaces + f'process time: {round(dt , 10)} sec')\n",
    "    if output:\n",
    "        return dt"
   ]
  },
  {
   "cell_type": "code",
   "execution_count": 5,
   "metadata": {},
   "outputs": [],
   "source": [
    "layers=100\n",
    "image = data.eagle()\n",
    "image_stack = np.zeros((layers, image.shape[0], image.shape[1]))\n",
    "image_stack[0] = image\n",
    "shifts_true = np.zeros((layers, 2))\n",
    "np.random.seed(1)\n",
    "for layer in range(1,layers):\n",
    "    shift = (np.random.randint(-100, 100), np.random.randint(-100, 100))\n",
    "    tform = SimilarityTransform(translation=shift)\n",
    "    image_stack[layer] = warp(image, tform)\n",
    "    shifts_true[layer] = shift"
   ]
  },
  {
   "cell_type": "code",
   "execution_count": 6,
   "metadata": {},
   "outputs": [
    {
     "name": "stdout",
     "output_type": "stream",
     "text": [
      "iteration: 0 (44.23463821411133 s)\n",
      "iteration: 1 (43.37108898162842 s)\n",
      "iteration: 2 (43.289732694625854 s)\n",
      "iteration: 3 (43.527652740478516 s)\n",
      "iteration: 4 (43.9640429019928 s)\n",
      "iteration: 5 (43.2540647983551 s)\n",
      "iteration: 6 (43.438711166381836 s)\n",
      "iteration: 7 (43.37554383277893 s)\n",
      "iteration: 8 (43.08427095413208 s)\n",
      "iteration: 9 (42.947351932525635 s)\n",
      "average processing time: 43.44870982170105 ± 0.3671917304626051 s\n"
     ]
    }
   ],
   "source": [
    "times_regs = []\n",
    "for rep in range(N_rep):\n",
    "    Process_t0 = time.time()\n",
    "    print(f\"iteration: {rep}\", end=\"\")\n",
    "    image_stack_reg = np.zeros((layers, image.shape[0], image.shape[1]))\n",
    "    shifts_detected = np.zeros((layers, 2))\n",
    "    pearson_R       = np.zeros(layers)\n",
    "    pearson_R_reg   = np.zeros(layers)\n",
    "    for layer in range(0,layers):\n",
    "        shift, _, _ = phase_cross_correlation(image, image_stack[layer])\n",
    "        shifts_detected[layer] = (-shift[1], -shift[0])\n",
    "        tform = SimilarityTransform(translation=shifts_detected[layer])\n",
    "        image_stack_reg[layer] = warp(image_stack[layer], tform)\n",
    "        pearson_R[layer]     = sp.stats.pearsonr(image[100:-100,100:-100].flatten(), \n",
    "                                                 image_stack[layer, 100:-100,100:-100].flatten())[0]\n",
    "        pearson_R_reg[layer] = sp.stats.pearsonr(image[100:-100,100:-100].flatten(), \n",
    "                                                 image_stack_reg[layer, 100:-100,100:-100].flatten())[0]\n",
    "    Process_t1 = calc_process_time(Process_t0, leadspaces=f\"{N_rep} reps: \", \n",
    "                                    output=True, unit=\"sec\", verbose=False)\n",
    "    print(f\" ({Process_t1} s)\")\n",
    "    times_regs.append(Process_t1)                         \n",
    "print(f\"average processing time: {np.mean(times_regs)} ± {np.std(times_regs)} s\")"
   ]
  },
  {
   "cell_type": "code",
   "execution_count": 7,
   "metadata": {},
   "outputs": [],
   "source": [
    "zarr_out_reg = zarr_curr_group.create_dataset(\"registration_test\", data=times_regs,\n",
    "                                              chunks=False, overwrite=True)"
   ]
  },
  {
   "cell_type": "code",
   "execution_count": 8,
   "metadata": {},
   "outputs": [
    {
     "data": {
      "text/plain": [
       "' \\nplt.imshow(image_stack_reg[1])\\nplt.imshow(image_stack[1])\\nplt.imshow(image)\\nplt.imshow(image*(image_stack_reg[1]), cmap=\\'gray\\')\\nplt.imshow(image-image_stack_reg[10]*100, cmap=\\'gray\\')\\nplt.imshow((image_stack_reg[1]), cmap=\\'gray\\')\\n\\nplt.plot(shifts_true[:,0], shifts_true[:,1], \\'d\\', c=\"k\", label=\"true shifts\")\\nplt.plot(-shifts_detected[:,0], -shifts_detected[:,1], \\'.\\', c=\"pink\", label=\"detected shifts\")\\nplt.legend()\\n\\nplt.plot(pearson_R, label=\"correlation before registration\", c=\"r\")\\nplt.plot(pearson_R_reg, label=\"correlation after registration\", c=\"g\")\\n'"
      ]
     },
     "execution_count": 8,
     "metadata": {},
     "output_type": "execute_result"
    }
   ],
   "source": [
    "\"\"\" \n",
    "plt.imshow(image_stack_reg[1])\n",
    "plt.imshow(image_stack[1])\n",
    "plt.imshow(image)\n",
    "plt.imshow(image*(image_stack_reg[1]), cmap='gray')\n",
    "plt.imshow(image-image_stack_reg[10]*100, cmap='gray')\n",
    "plt.imshow((image_stack_reg[1]), cmap='gray')\n",
    "\n",
    "plt.plot(shifts_true[:,0], shifts_true[:,1], 'd', c=\"k\", label=\"true shifts\")\n",
    "plt.plot(-shifts_detected[:,0], -shifts_detected[:,1], '.', c=\"pink\", label=\"detected shifts\")\n",
    "plt.legend()\n",
    "\n",
    "plt.plot(pearson_R, label=\"correlation before registration\", c=\"r\")\n",
    "plt.plot(pearson_R_reg, label=\"correlation after registration\", c=\"g\")\n",
    "\"\"\"\n"
   ]
  },
  {
   "cell_type": "code",
   "execution_count": 9,
   "metadata": {},
   "outputs": [
    {
     "ename": "SyntaxError",
     "evalue": "invalid syntax (3761836011.py, line 5)",
     "output_type": "error",
     "traceback": [
      "\u001b[0;36m  Cell \u001b[0;32mIn [9], line 5\u001b[0;36m\u001b[0m\n\u001b[0;31m    \"\"\"Get base/real prefix, or sys.prefix if there is none.\"\"\"\u001b[0m\n\u001b[0m       ^\u001b[0m\n\u001b[0;31mSyntaxError\u001b[0m\u001b[0;31m:\u001b[0m invalid syntax\n"
     ]
    }
   ],
   "source": [
    "\"\"\"\n",
    "import sys\n",
    "\n",
    "def get_base_prefix_compat():\n",
    "    \"\"\"Get base/real prefix, or sys.prefix if there is none.\"\"\"\n",
    "    return getattr(sys, \"base_prefix\", None) or getattr(sys, \"real_prefix\", None) or sys.prefix\n",
    "\n",
    "def in_virtualenv():\n",
    "    return get_base_prefix_compat() != sys.prefix\n",
    "\n",
    "print(sys.prefix)\n",
    "print(getattr(sys, \"base_prefix\", None))\n",
    "\"\"\""
   ]
  }
 ],
 "metadata": {
  "kernelspec": {
   "display_name": "Python 3 (ipykernel)",
   "language": "python",
   "name": "python3"
  },
  "language_info": {
   "codemirror_mode": {
    "name": "ipython",
    "version": 3
   },
   "file_extension": ".py",
   "mimetype": "text/x-python",
   "name": "python",
   "nbconvert_exporter": "python",
   "pygments_lexer": "ipython3",
   "version": "3.10.6"
  }
 },
 "nbformat": 4,
 "nbformat_minor": 4
}
